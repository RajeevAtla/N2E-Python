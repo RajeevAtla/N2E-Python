{
  "nbformat": 4,
  "nbformat_minor": 0,
  "metadata": {
    "colab": {
      "name": "Python Logic.ipynb",
      "provenance": [],
      "authorship_tag": "ABX9TyNFewGpf9PbP9ROh4zSLWME",
      "include_colab_link": true
    },
    "kernelspec": {
      "name": "python3",
      "display_name": "Python 3"
    },
    "language_info": {
      "name": "python"
    }
  },
  "cells": [
    {
      "cell_type": "markdown",
      "metadata": {
        "id": "view-in-github",
        "colab_type": "text"
      },
      "source": [
        "<a href=\"https://colab.research.google.com/github/RajeevAtla/N2E-Python/blob/main/Python_Logic.ipynb\" target=\"_parent\"><img src=\"https://colab.research.google.com/assets/colab-badge.svg\" alt=\"Open In Colab\"/></a>"
      ]
    },
    {
      "cell_type": "code",
      "execution_count": 5,
      "metadata": {
        "colab": {
          "base_uri": "https://localhost:8080/"
        },
        "id": "I4G-dOM5NENP",
        "outputId": "ea701349-9471-45d1-bf06-94023fdc0500"
      },
      "outputs": [
        {
          "name": "stdout",
          "output_type": "stream",
          "text": [
            "3\n"
          ]
        }
      ],
      "source": [
        "k = int(input())"
      ]
    },
    {
      "cell_type": "code",
      "source": [
        "int(\"10\")"
      ],
      "metadata": {
        "colab": {
          "base_uri": "https://localhost:8080/"
        },
        "id": "cEl0a4pajVa8",
        "outputId": "be680dca-eb0b-4f7d-b494-43f1adf50ae7"
      },
      "execution_count": 4,
      "outputs": [
        {
          "output_type": "execute_result",
          "data": {
            "text/plain": [
              "10"
            ]
          },
          "metadata": {},
          "execution_count": 4
        }
      ]
    },
    {
      "cell_type": "code",
      "source": [
        "k=3"
      ],
      "metadata": {
        "id": "-gWamRfJVTLy"
      },
      "execution_count": 10,
      "outputs": []
    },
    {
      "cell_type": "code",
      "source": [
        "if k == 1:\n",
        "    print(2)\n",
        "elif k == 3:\n",
        "    print(9)\n",
        "elif k == 9:\n",
        "    print(10)\n",
        "else:\n",
        "    print(5)\n",
        "\n",
        "\n",
        "\n",
        "# NO SWITCH STATEMENTS"
      ],
      "metadata": {
        "id": "6AXa1vTQVUJW"
      },
      "execution_count": null,
      "outputs": []
    },
    {
      "cell_type": "code",
      "source": [
        "x = 50\n",
        "y = 10\n",
        "\n",
        "print((x==90) and (y==90))"
      ],
      "metadata": {
        "colab": {
          "base_uri": "https://localhost:8080/"
        },
        "id": "PnVjYjRulioK",
        "outputId": "8e98ad90-80d9-4bd8-e39f-4a34d9c8ae43"
      },
      "execution_count": 22,
      "outputs": [
        {
          "output_type": "stream",
          "name": "stdout",
          "text": [
            "False\n"
          ]
        }
      ]
    },
    {
      "cell_type": "code",
      "source": [
        "x = False\n",
        "print(not x)"
      ],
      "metadata": {
        "colab": {
          "base_uri": "https://localhost:8080/"
        },
        "id": "_NwI8i5WmFDc",
        "outputId": "6c91f91e-a179-4a85-8d3d-c1210fff9ce5"
      },
      "execution_count": 24,
      "outputs": [
        {
          "output_type": "stream",
          "name": "stdout",
          "text": [
            "True\n"
          ]
        }
      ]
    },
    {
      "cell_type": "code",
      "source": [
        "for i in range(5):\n",
        "    print(i)\n",
        "\n",
        "# range(5) = (0, 1, 2, 3, 4)\n",
        "\n",
        "\n",
        "# range(n) = (0, 1, ..., n-1)"
      ],
      "metadata": {
        "colab": {
          "base_uri": "https://localhost:8080/"
        },
        "id": "Bic_M6qCWrNg",
        "outputId": "4b6c0ed8-c5c8-445c-f01e-572770a20a12"
      },
      "execution_count": 25,
      "outputs": [
        {
          "output_type": "stream",
          "name": "stdout",
          "text": [
            "0\n",
            "1\n",
            "2\n",
            "3\n",
            "4\n"
          ]
        }
      ]
    },
    {
      "cell_type": "code",
      "source": [
        "n = 10\n",
        "while(n > 0):\n",
        "    print(n)\n",
        "    n -= 1"
      ],
      "metadata": {
        "colab": {
          "base_uri": "https://localhost:8080/"
        },
        "id": "jtBnIM9MX6Sb",
        "outputId": "566adedf-89e1-4064-c549-e3a679054f7f"
      },
      "execution_count": 26,
      "outputs": [
        {
          "output_type": "stream",
          "name": "stdout",
          "text": [
            "10\n",
            "9\n",
            "8\n",
            "7\n",
            "6\n",
            "5\n",
            "4\n",
            "3\n",
            "2\n",
            "1\n"
          ]
        }
      ]
    },
    {
      "cell_type": "code",
      "source": [
        "n = 10\n",
        "n += 1"
      ],
      "metadata": {
        "id": "XibgDSXaqE1m"
      },
      "execution_count": 27,
      "outputs": []
    }
  ]
}