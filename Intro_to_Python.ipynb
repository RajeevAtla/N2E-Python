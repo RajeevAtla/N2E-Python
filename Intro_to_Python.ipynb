{
  "nbformat": 4,
  "nbformat_minor": 0,
  "metadata": {
    "colab": {
      "name": "Intro to Python",
      "provenance": [],
      "collapsed_sections": [],
      "authorship_tag": "ABX9TyPJT9dXWw/rd+zHaDCfzGM5",
      "include_colab_link": true
    },
    "kernelspec": {
      "name": "python3",
      "display_name": "Python 3"
    },
    "language_info": {
      "name": "python"
    }
  },
  "cells": [
    {
      "cell_type": "markdown",
      "metadata": {
        "id": "view-in-github",
        "colab_type": "text"
      },
      "source": [
        "<a href=\"https://colab.research.google.com/github/RajeevAtla/N2E-Python/blob/main/Intro_to_Python.ipynb\" target=\"_parent\"><img src=\"https://colab.research.google.com/assets/colab-badge.svg\" alt=\"Open In Colab\"/></a>"
      ]
    },
    {
      "cell_type": "code",
      "execution_count": 2,
      "metadata": {
        "colab": {
          "base_uri": "https://localhost:8080/"
        },
        "id": "tT13OejVIprt",
        "outputId": "2ace030f-ba26-4bd6-8126-617c71fdef08"
      },
      "outputs": [
        {
          "output_type": "stream",
          "name": "stdout",
          "text": [
            "Hello, World!\n"
          ]
        }
      ],
      "source": [
        "print(\"Hello, World!\")"
      ]
    },
    {
      "cell_type": "markdown",
      "source": [
        "# Why Python?\n",
        "\n",
        "\n",
        "*   LeetCoding/Competitive Programming\n",
        "*   Data Science (AI, ML, Deep Learning, etc.)\n",
        "*   Web Services\n",
        "*   Scripting\n",
        "\n"
      ],
      "metadata": {
        "id": "rdMfZM9PJJma"
      }
    },
    {
      "cell_type": "markdown",
      "source": [
        "## Python As  Calculator"
      ],
      "metadata": {
        "id": "KQ4LLV45Kn7u"
      }
    },
    {
      "cell_type": "code",
      "source": [
        "1+1\n",
        "#1*5\n",
        "5*(1+3)"
      ],
      "metadata": {
        "colab": {
          "base_uri": "https://localhost:8080/"
        },
        "id": "7rdHa0WZJwA_",
        "outputId": "edc0f4b9-ec59-41ea-ba28-0a251fad068f"
      },
      "execution_count": 6,
      "outputs": [
        {
          "output_type": "execute_result",
          "data": {
            "text/plain": [
              "20"
            ]
          },
          "metadata": {},
          "execution_count": 6
        }
      ]
    },
    {
      "cell_type": "code",
      "source": [
        "10/3"
      ],
      "metadata": {
        "colab": {
          "base_uri": "https://localhost:8080/"
        },
        "id": "bs1f1JcBTQEn",
        "outputId": "e7a07d40-c460-4752-e83f-dfe8a877d8e0"
      },
      "execution_count": 7,
      "outputs": [
        {
          "output_type": "execute_result",
          "data": {
            "text/plain": [
              "3.3333333333333335"
            ]
          },
          "metadata": {},
          "execution_count": 7
        }
      ]
    },
    {
      "cell_type": "code",
      "source": [
        "10//3\n",
        "5//3"
      ],
      "metadata": {
        "colab": {
          "base_uri": "https://localhost:8080/"
        },
        "id": "JOB5uhLlTTGa",
        "outputId": "65e64b3d-5c1d-4d38-a37a-75c73ef39102"
      },
      "execution_count": 12,
      "outputs": [
        {
          "output_type": "execute_result",
          "data": {
            "text/plain": [
              "1"
            ]
          },
          "metadata": {},
          "execution_count": 12
        }
      ]
    },
    {
      "cell_type": "code",
      "source": [
        "3**9\n",
        "#3^9"
      ],
      "metadata": {
        "colab": {
          "base_uri": "https://localhost:8080/"
        },
        "id": "oT47Qd0GVWsP",
        "outputId": "df5b1812-0c86-411a-8423-70777702a5b5"
      },
      "execution_count": 9,
      "outputs": [
        {
          "output_type": "execute_result",
          "data": {
            "text/plain": [
              "19683"
            ]
          },
          "metadata": {},
          "execution_count": 9
        }
      ]
    },
    {
      "cell_type": "code",
      "source": [
        "4 % 2\n",
        "5 % 3"
      ],
      "metadata": {
        "colab": {
          "base_uri": "https://localhost:8080/"
        },
        "id": "_E9CmHAtVYPc",
        "outputId": "a0beeb2d-1304-4449-e93c-efb66e3a5f1d"
      },
      "execution_count": 11,
      "outputs": [
        {
          "output_type": "execute_result",
          "data": {
            "text/plain": [
              "2"
            ]
          },
          "metadata": {},
          "execution_count": 11
        }
      ]
    },
    {
      "cell_type": "markdown",
      "source": [
        "## Variables"
      ],
      "metadata": {
        "id": "P6aix53DMN1v"
      }
    },
    {
      "cell_type": "code",
      "source": [
        "x = 1\n",
        "print(x)\n",
        "\n",
        "x = \"h\"\n",
        "x = \"hi, Im Rajeev\"\n",
        "print(x)"
      ],
      "metadata": {
        "colab": {
          "base_uri": "https://localhost:8080/"
        },
        "id": "DQJH5rZPMMxA",
        "outputId": "39f7724c-0956-49f3-cb33-7c195f5ecc79"
      },
      "execution_count": 15,
      "outputs": [
        {
          "output_type": "stream",
          "name": "stdout",
          "text": [
            "1\n",
            "hi, Im Rajeev\n"
          ]
        }
      ]
    },
    {
      "cell_type": "code",
      "source": [
        "length = 50\n",
        "height = 20\n",
        "width = 10\n",
        "volume = length * height * width\n",
        "print(volume)"
      ],
      "metadata": {
        "colab": {
          "base_uri": "https://localhost:8080/"
        },
        "id": "hKQCQAVjMVKm",
        "outputId": "afadb3a8-29e3-451d-8188-62a49cb2718e"
      },
      "execution_count": 16,
      "outputs": [
        {
          "output_type": "stream",
          "name": "stdout",
          "text": [
            "10000\n"
          ]
        }
      ]
    },
    {
      "cell_type": "code",
      "source": [
        "\n",
        "\n",
        "def funyay():\n",
        "    print(1)\n",
        "    return \"my name is bob\"\n",
        "\n",
        "d = funyay()\n",
        "print(d)\n",
        "\n",
        "\n",
        "\n",
        "\n",
        "\n"
      ],
      "metadata": {
        "colab": {
          "base_uri": "https://localhost:8080/"
        },
        "id": "8ZoEGX7KQJxE",
        "outputId": "859c2854-dcdd-442c-e7c2-fbbf86e95ea3"
      },
      "execution_count": 34,
      "outputs": [
        {
          "output_type": "stream",
          "name": "stdout",
          "text": [
            "1\n",
            "my name is bob\n"
          ]
        }
      ]
    }
  ]
}